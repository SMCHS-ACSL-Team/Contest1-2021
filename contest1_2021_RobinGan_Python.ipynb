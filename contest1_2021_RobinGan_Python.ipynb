{
 "cells": [
  {
   "cell_type": "code",
   "execution_count": 12,
   "metadata": {},
   "outputs": [],
   "source": [
    "def formatString(inp, re):\n",
    "    if(len(inp) == 1):\n",
    "        re.append(inp)\n",
    "        return\n",
    "    formatString(hex(sum([int(x, base=16) for x in inp]))[2:], re)\n",
    "            \n",
    "def sumOfLastRow(s, d, r):\n",
    "    d, rawString, re = int(d, base=16), '', []\n",
    "    startNum = int(s, base=16) + (sum([x for x in range(r)]) -1) * d\n",
    "    \n",
    "    for i in range(r):\n",
    "        startNum += d\n",
    "        rawString += hex(startNum)[2:]\n",
    "         \n",
    "    formatString(rawString, re)\n",
    "    return re[0].upper()"
   ]
  },
  {
   "cell_type": "code",
   "execution_count": 13,
   "metadata": {},
   "outputs": [
    {
     "name": "stdout",
     "output_type": "stream",
     "text": [
      "5\n",
      "C\n",
      "A\n",
      "F\n",
      "5\n"
     ]
    }
   ],
   "source": [
    "inputt = ['A 9 5', 'ABC F 4', 'BAD 50 10', 'FED ABC 25', '184 231 35']\n",
    "\n",
    "for i in inputt:\n",
    "    i = i.split(' ')\n",
    "    print(sumOfLastRow(i[0], i[1], int(i[2])))"
   ]
  },
  {
   "cell_type": "code",
   "execution_count": null,
   "metadata": {},
   "outputs": [],
   "source": []
  }
 ],
 "metadata": {
  "kernelspec": {
   "display_name": "Python 3",
   "language": "python",
   "name": "python3"
  },
  "language_info": {
   "codemirror_mode": {
    "name": "ipython",
    "version": 3
   },
   "file_extension": ".py",
   "mimetype": "text/x-python",
   "name": "python",
   "nbconvert_exporter": "python",
   "pygments_lexer": "ipython3",
   "version": "3.8.5"
  }
 },
 "nbformat": 4,
 "nbformat_minor": 4
}
